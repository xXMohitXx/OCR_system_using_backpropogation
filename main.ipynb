{
 "cells": [
  {
   "cell_type": "code",
   "id": "initial_id",
   "metadata": {
    "collapsed": true,
    "ExecuteTime": {
     "end_time": "2024-09-27T16:40:12.852084Z",
     "start_time": "2024-09-27T16:40:11.410966Z"
    }
   },
   "source": [
    "import numpy as np\n",
    "import pandas as pd\n",
    "from matplotlib import pyplot as plt\n",
    "\n",
    "data = pd.read_csv('train.csv')"
   ],
   "outputs": [],
   "execution_count": 10
  },
  {
   "metadata": {
    "ExecuteTime": {
     "end_time": "2024-09-27T16:40:13.916029Z",
     "start_time": "2024-09-27T16:40:12.857094Z"
    }
   },
   "cell_type": "code",
   "source": [
    "data = np.array(data)\n",
    "m, n = data.shape\n",
    "np.random.shuffle(data) # shuffle before splitting into dev and training sets\n",
    "\n",
    "data_dev = data[0:1000].T\n",
    "Y_dev = data_dev[0]\n",
    "X_dev = data_dev[1:n]\n",
    "X_dev = X_dev / 255.\n",
    "\n",
    "data_train = data[1000:m].T\n",
    "Y_train = data_train[0]\n",
    "X_train = data_train[1:n]\n",
    "X_train = X_train / 255.\n",
    "_,m_train = X_train.shape"
   ],
   "id": "c9669718162591f5",
   "outputs": [],
   "execution_count": 11
  },
  {
   "metadata": {
    "ExecuteTime": {
     "end_time": "2024-09-27T16:40:13.933173Z",
     "start_time": "2024-09-27T16:40:13.928577Z"
    }
   },
   "cell_type": "code",
   "source": "Y_train",
   "id": "fb3491b4263f6803",
   "outputs": [
    {
     "data": {
      "text/plain": [
       "array([0, 4, 6, ..., 3, 7, 8], dtype=int64)"
      ]
     },
     "execution_count": 12,
     "metadata": {},
     "output_type": "execute_result"
    }
   ],
   "execution_count": 12
  },
  {
   "metadata": {
    "ExecuteTime": {
     "end_time": "2024-09-27T16:40:14.026623Z",
     "start_time": "2024-09-27T16:40:14.014509Z"
    }
   },
   "cell_type": "code",
   "source": [
    "def init_params():\n",
    "    W1 = np.random.normal(size=(10, 784)) * np.sqrt(1./(784))\n",
    "    b1 = np.random.normal(size=(10, 1)) * np.sqrt(1./10)\n",
    "    W2 = np.random.normal(size=(10, 10)) * np.sqrt(1./20)\n",
    "    b2 = np.random.normal(size=(10, 1)) * np.sqrt(1./(784))\n",
    "    return W1, b1, W2, b2\n",
    "    return W1, b1, W2, b2\n",
    "\n",
    "def ReLU(Z):\n",
    "    return np.maximum(Z, 0)\n",
    "\n",
    "def softmax(Z):\n",
    "    A = np.exp(Z) / sum(np.exp(Z))\n",
    "    return A\n",
    "    \n",
    "def forward_prop(W1, b1, W2, b2, X):\n",
    "    Z1 = W1.dot(X) + b1\n",
    "    A1 = ReLU(Z1)\n",
    "    Z2 = W2.dot(A1) + b2\n",
    "    A2 = softmax(Z2)\n",
    "    return Z1, A1, Z2, A2\n",
    "\n",
    "def ReLU_deriv(Z):\n",
    "    return Z > 0\n",
    "\n",
    "def one_hot(Y):\n",
    "    one_hot_Y = np.zeros((Y.size, Y.max() + 1))\n",
    "    one_hot_Y[np.arange(Y.size), Y] = 1\n",
    "    one_hot_Y = one_hot_Y.T\n",
    "    return one_hot_Y\n",
    "\n",
    "def backward_prop(Z1, A1, Z2, A2, W1, W2, X, Y):\n",
    "    one_hot_Y = one_hot(Y)\n",
    "    dZ2 = A2 - one_hot_Y\n",
    "    dW2 = 1 / m * dZ2.dot(A1.T)\n",
    "    db2 = 1 / m * np.sum(dZ2)\n",
    "    dZ1 = W2.T.dot(dZ2) * ReLU_deriv(Z1)\n",
    "    dW1 = 1 / m * dZ1.dot(X.T)\n",
    "    db1 = 1 / m * np.sum(dZ1)\n",
    "    return dW1, db1, dW2, db2\n",
    "\n",
    "def update_params(W1, b1, W2, b2, dW1, db1, dW2, db2, alpha):\n",
    "    W1 = W1 - alpha * dW1\n",
    "    b1 = b1 - alpha * db1    \n",
    "    W2 = W2 - alpha * dW2  \n",
    "    b2 = b2 - alpha * db2    \n",
    "    return W1, b1, W2, b2"
   ],
   "id": "ce94ead6c9bfd4c2",
   "outputs": [],
   "execution_count": 13
  },
  {
   "metadata": {
    "ExecuteTime": {
     "end_time": "2024-09-27T16:40:14.043565Z",
     "start_time": "2024-09-27T16:40:14.038545Z"
    }
   },
   "cell_type": "code",
   "source": [
    "def get_predictions(A2):\n",
    "    return np.argmax(A2, 0)\n",
    "\n",
    "def get_accuracy(predictions, Y):\n",
    "    print(predictions, Y)\n",
    "    return np.sum(predictions == Y) / Y.size\n",
    "\n",
    "def gradient_descent(X, Y, alpha, iterations):\n",
    "    W1, b1, W2, b2 = init_params()\n",
    "    for i in range(iterations):\n",
    "        Z1, A1, Z2, A2 = forward_prop(W1, b1, W2, b2, X)\n",
    "        dW1, db1, dW2, db2 = backward_prop(Z1, A1, Z2, A2, W1, W2, X, Y)\n",
    "        W1, b1, W2, b2 = update_params(W1, b1, W2, b2, dW1, db1, dW2, db2, alpha)\n",
    "        if i % 10 == 0:\n",
    "            print(\"Iteration: \", i)\n",
    "            predictions = get_predictions(A2)\n",
    "            print(get_accuracy(predictions, Y))\n",
    "    return W1, b1, W2, b2"
   ],
   "id": "b1884037fb487f2",
   "outputs": [],
   "execution_count": 14
  },
  {
   "metadata": {
    "ExecuteTime": {
     "end_time": "2024-09-27T16:40:29.941934Z",
     "start_time": "2024-09-27T16:40:14.054291Z"
    }
   },
   "cell_type": "code",
   "source": "W1, b1, W2, b2 = gradient_descent(X_train, Y_train, 0.10, 500)",
   "id": "c98da7dca5a73fd2",
   "outputs": [
    {
     "name": "stdout",
     "output_type": "stream",
     "text": [
      "Iteration:  0\n",
      "[7 5 7 ... 3 7 7] [0 4 6 ... 3 7 8]\n",
      "0.12790243902439025\n",
      "Iteration:  10\n",
      "[7 5 3 ... 5 7 7] [0 4 6 ... 3 7 8]\n",
      "0.30017073170731706\n",
      "Iteration:  20\n",
      "[0 5 3 ... 5 7 5] [0 4 6 ... 3 7 8]\n",
      "0.3811707317073171\n",
      "Iteration:  30\n",
      "[0 9 3 ... 5 7 5] [0 4 6 ... 3 7 8]\n",
      "0.46034146341463417\n",
      "Iteration:  40\n",
      "[0 9 6 ... 3 7 6] [0 4 6 ... 3 7 8]\n",
      "0.5274146341463415\n",
      "Iteration:  50\n",
      "[0 9 6 ... 3 7 8] [0 4 6 ... 3 7 8]\n",
      "0.6430731707317073\n",
      "Iteration:  60\n",
      "[0 9 6 ... 3 7 8] [0 4 6 ... 3 7 8]\n",
      "0.6847560975609757\n",
      "Iteration:  70\n",
      "[0 9 6 ... 3 7 8] [0 4 6 ... 3 7 8]\n",
      "0.7082439024390244\n",
      "Iteration:  80\n",
      "[0 9 6 ... 3 7 8] [0 4 6 ... 3 7 8]\n",
      "0.7361463414634146\n",
      "Iteration:  90\n",
      "[0 9 6 ... 3 7 8] [0 4 6 ... 3 7 8]\n",
      "0.7585609756097561\n",
      "Iteration:  100\n",
      "[0 4 6 ... 3 7 8] [0 4 6 ... 3 7 8]\n",
      "0.7757317073170732\n",
      "Iteration:  110\n",
      "[0 4 6 ... 3 7 8] [0 4 6 ... 3 7 8]\n",
      "0.7888536585365854\n",
      "Iteration:  120\n",
      "[0 4 6 ... 3 7 8] [0 4 6 ... 3 7 8]\n",
      "0.799219512195122\n",
      "Iteration:  130\n",
      "[5 4 6 ... 3 7 8] [0 4 6 ... 3 7 8]\n",
      "0.8085853658536586\n",
      "Iteration:  140\n",
      "[5 4 6 ... 3 7 8] [0 4 6 ... 3 7 8]\n",
      "0.8164390243902439\n",
      "Iteration:  150\n",
      "[5 4 6 ... 3 7 8] [0 4 6 ... 3 7 8]\n",
      "0.8232439024390243\n",
      "Iteration:  160\n",
      "[5 4 6 ... 3 7 8] [0 4 6 ... 3 7 8]\n",
      "0.8297317073170731\n",
      "Iteration:  170\n",
      "[5 4 6 ... 3 7 8] [0 4 6 ... 3 7 8]\n",
      "0.8356341463414634\n",
      "Iteration:  180\n",
      "[5 4 6 ... 3 7 8] [0 4 6 ... 3 7 8]\n",
      "0.8416585365853658\n",
      "Iteration:  190\n",
      "[5 4 6 ... 3 7 8] [0 4 6 ... 3 7 8]\n",
      "0.8471219512195122\n",
      "Iteration:  200\n",
      "[5 4 6 ... 3 7 8] [0 4 6 ... 3 7 8]\n",
      "0.8516585365853658\n",
      "Iteration:  210\n",
      "[5 4 6 ... 3 7 8] [0 4 6 ... 3 7 8]\n",
      "0.8561707317073171\n",
      "Iteration:  220\n",
      "[5 4 6 ... 3 7 8] [0 4 6 ... 3 7 8]\n",
      "0.8603414634146341\n",
      "Iteration:  230\n",
      "[5 4 6 ... 3 7 8] [0 4 6 ... 3 7 8]\n",
      "0.863780487804878\n",
      "Iteration:  240\n",
      "[5 4 6 ... 3 7 8] [0 4 6 ... 3 7 8]\n",
      "0.8670487804878049\n",
      "Iteration:  250\n",
      "[5 4 6 ... 3 7 8] [0 4 6 ... 3 7 8]\n",
      "0.869780487804878\n",
      "Iteration:  260\n",
      "[5 4 6 ... 3 7 8] [0 4 6 ... 3 7 8]\n",
      "0.8724390243902439\n",
      "Iteration:  270\n",
      "[5 4 6 ... 3 7 8] [0 4 6 ... 3 7 8]\n",
      "0.8751951219512195\n",
      "Iteration:  280\n",
      "[5 4 6 ... 3 7 8] [0 4 6 ... 3 7 8]\n",
      "0.877609756097561\n",
      "Iteration:  290\n",
      "[5 4 6 ... 3 7 8] [0 4 6 ... 3 7 8]\n",
      "0.8800731707317073\n",
      "Iteration:  300\n",
      "[5 4 6 ... 3 7 8] [0 4 6 ... 3 7 8]\n",
      "0.8818536585365854\n",
      "Iteration:  310\n",
      "[5 4 6 ... 3 7 8] [0 4 6 ... 3 7 8]\n",
      "0.8835365853658537\n",
      "Iteration:  320\n",
      "[5 4 6 ... 3 7 8] [0 4 6 ... 3 7 8]\n",
      "0.8848780487804878\n",
      "Iteration:  330\n",
      "[5 4 6 ... 3 7 8] [0 4 6 ... 3 7 8]\n",
      "0.8863414634146342\n",
      "Iteration:  340\n",
      "[5 4 6 ... 3 7 8] [0 4 6 ... 3 7 8]\n",
      "0.8876585365853659\n",
      "Iteration:  350\n",
      "[5 4 6 ... 3 7 8] [0 4 6 ... 3 7 8]\n",
      "0.8889512195121951\n",
      "Iteration:  360\n",
      "[5 4 6 ... 3 7 8] [0 4 6 ... 3 7 8]\n",
      "0.890219512195122\n",
      "Iteration:  370\n",
      "[5 4 6 ... 3 7 8] [0 4 6 ... 3 7 8]\n",
      "0.8917073170731707\n",
      "Iteration:  380\n",
      "[5 4 6 ... 3 7 8] [0 4 6 ... 3 7 8]\n",
      "0.892609756097561\n",
      "Iteration:  390\n",
      "[5 4 6 ... 3 7 8] [0 4 6 ... 3 7 8]\n",
      "0.8936585365853659\n",
      "Iteration:  400\n",
      "[5 4 6 ... 3 7 8] [0 4 6 ... 3 7 8]\n",
      "0.894609756097561\n",
      "Iteration:  410\n",
      "[5 4 6 ... 3 7 8] [0 4 6 ... 3 7 8]\n",
      "0.8952926829268293\n",
      "Iteration:  420\n",
      "[5 4 6 ... 3 7 8] [0 4 6 ... 3 7 8]\n",
      "0.8958048780487805\n",
      "Iteration:  430\n",
      "[5 4 6 ... 3 7 8] [0 4 6 ... 3 7 8]\n",
      "0.8966585365853659\n",
      "Iteration:  440\n",
      "[5 4 6 ... 3 7 8] [0 4 6 ... 3 7 8]\n",
      "0.8973658536585366\n",
      "Iteration:  450\n",
      "[5 4 6 ... 3 7 8] [0 4 6 ... 3 7 8]\n",
      "0.8979268292682927\n",
      "Iteration:  460\n",
      "[5 4 6 ... 3 7 8] [0 4 6 ... 3 7 8]\n",
      "0.8987804878048781\n",
      "Iteration:  470\n",
      "[5 4 6 ... 3 7 8] [0 4 6 ... 3 7 8]\n",
      "0.8994634146341464\n",
      "Iteration:  480\n",
      "[5 4 6 ... 3 7 8] [0 4 6 ... 3 7 8]\n",
      "0.900219512195122\n",
      "Iteration:  490\n",
      "[5 4 6 ... 3 7 8] [0 4 6 ... 3 7 8]\n",
      "0.9007073170731708\n"
     ]
    }
   ],
   "execution_count": 15
  },
  {
   "metadata": {
    "ExecuteTime": {
     "end_time": "2024-09-27T16:40:29.959581Z",
     "start_time": "2024-09-27T16:40:29.953852Z"
    }
   },
   "cell_type": "code",
   "source": [
    "def make_predictions(X, W1, b1, W2, b2):\n",
    "    _, _, _, A2 = forward_prop(W1, b1, W2, b2, X)\n",
    "    predictions = get_predictions(A2)\n",
    "    return predictions\n",
    "\n",
    "def test_prediction(index, W1, b1, W2, b2):\n",
    "    current_image = X_train[:, index, None]\n",
    "    prediction = make_predictions(X_train[:, index, None], W1, b1, W2, b2)\n",
    "    label = Y_train[index]\n",
    "    print(\"Prediction: \", prediction)\n",
    "    print(\"Label: \", label)\n",
    "    \n",
    "    current_image = current_image.reshape((28, 28)) * 255\n",
    "    plt.gray()\n",
    "    plt.imshow(current_image, interpolation='nearest')\n",
    "    plt.show()"
   ],
   "id": "bff6f97e56c31dea",
   "outputs": [],
   "execution_count": 16
  },
  {
   "metadata": {
    "ExecuteTime": {
     "end_time": "2024-09-27T16:40:30.289802Z",
     "start_time": "2024-09-27T16:40:29.972010Z"
    }
   },
   "cell_type": "code",
   "source": [
    "test_prediction(0, W1, b1, W2, b2)\n",
    "test_prediction(1, W1, b1, W2, b2)\n",
    "test_prediction(2, W1, b1, W2, b2)\n",
    "test_prediction(3, W1, b1, W2, b2)"
   ],
   "id": "21b1e39078f1023b",
   "outputs": [
    {
     "name": "stdout",
     "output_type": "stream",
     "text": [
      "Prediction:  [5]\n",
      "Label:  0\n"
     ]
    },
    {
     "data": {
      "text/plain": [
       "<Figure size 640x480 with 1 Axes>"
      ],
      "image/png": "[encoded data removed]"
     },
     "metadata": {},
     "output_type": "display_data"
    },
    {
     "name": "stdout",
     "output_type": "stream",
     "text": [
      "Prediction:  [4]\n",
      "Label:  4\n"
     ]
    },
    {
     "data": {
      "text/plain": [
       "<Figure size 640x480 with 1 Axes>"
      ],
      "image/png": "[encoded data removed]"
     },
     "metadata": {},
     "output_type": "display_data"
    },
    {
     "name": "stdout",
     "output_type": "stream",
     "text": [
      "Prediction:  [6]\n",
      "Label:  6\n"
     ]
    },
    {
     "data": {
      "text/plain": [
       "<Figure size 640x480 with 1 Axes>"
      ],
      "image/png": "[encoded data removed]"
     },
     "metadata": {},
     "output_type": "display_data"
    },
    {
     "name": "stdout",
     "output_type": "stream",
     "text": [
      "Prediction:  [3]\n",
      "Label:  3\n"
     ]
    },
    {
     "data": {
      "text/plain": [
       "<Figure size 640x480 with 1 Axes>"
      ],
      "image/png": "[encoded data removed]"
     },
     "metadata": {},
     "output_type": "display_data"
    }
   ],
   "execution_count": 17
  },
  {
   "metadata": {
    "ExecuteTime": {
     "end_time": "2024-09-27T16:40:30.314853Z",
     "start_time": "2024-09-27T16:40:30.305346Z"
    }
   },
   "cell_type": "code",
   "source": [
    "dev_predictions = make_predictions(X_dev, W1, b1, W2, b2)\n",
    "get_accuracy(dev_predictions, Y_dev)"
   ],
   "id": "cf4f222f793eeef1",
   "outputs": [
    {
     "name": "stdout",
     "output_type": "stream",
     "text": [
      "[4 1 2 2 5 1 2 1 4 4 1 8 0 0 0 4 8 3 3 8 6 4 1 5 4 0 8 8 7 8 3 7 5 9 0 1 5\n",
      " 8 3 3 7 8 4 1 6 7 1 8 7 8 1 4 0 7 8 7 5 1 6 8 8 2 0 9 8 8 7 6 3 4 6 0 3 8\n",
      " 2 2 7 5 0 6 2 9 5 2 1 7 0 7 1 4 5 6 2 0 4 2 3 7 0 8 3 2 3 0 7 1 3 2 6 6 3\n",
      " 0 8 9 6 6 8 2 7 9 8 1 1 9 6 9 7 4 3 1 4 8 9 4 4 9 4 7 9 6 5 6 7 2 5 7 9 5\n",
      " 6 7 1 6 8 3 3 9 9 2 8 6 7 0 8 1 3 8 7 5 1 7 5 7 4 4 0 3 2 8 2 9 4 3 0 2 4\n",
      " 6 7 2 9 0 2 3 2 5 7 0 9 2 9 6 2 2 6 3 6 2 9 9 8 4 1 4 8 6 7 5 3 9 2 3 3 6\n",
      " 7 6 7 8 3 7 2 0 8 8 9 5 4 5 1 6 9 7 3 3 1 9 0 5 1 6 2 8 5 7 2 4 7 4 9 0 3\n",
      " 5 7 2 2 6 3 2 6 1 5 6 8 2 7 0 4 7 8 7 1 7 4 4 3 5 0 8 4 6 4 4 6 7 3 9 7 9\n",
      " 0 6 5 1 6 5 3 3 3 3 6 7 0 3 4 1 9 2 3 0 5 6 0 8 0 7 1 5 2 9 9 1 1 3 5 6 3\n",
      " 0 5 0 6 0 1 2 7 7 4 2 5 3 9 4 3 6 1 1 8 3 0 4 0 5 1 5 4 7 5 8 3 9 0 1 9 1\n",
      " 0 3 4 1 3 0 6 4 9 9 4 5 3 9 3 1 6 9 3 3 1 7 2 0 7 6 2 4 5 6 5 9 1 8 5 2 1\n",
      " 1 3 9 9 6 4 1 3 0 1 0 4 9 5 6 2 1 4 4 1 7 0 6 1 7 1 8 7 9 4 0 0 2 4 6 3 6\n",
      " 9 0 8 2 2 5 7 1 3 6 9 1 1 5 2 5 0 3 8 6 7 0 0 0 4 6 1 7 7 9 6 0 8 2 7 2 5\n",
      " 1 7 1 3 8 4 1 8 8 5 7 1 1 3 7 3 9 8 4 5 3 1 9 6 4 2 9 3 7 5 3 2 9 1 8 9 8\n",
      " 5 3 4 5 6 6 0 1 0 1 6 1 3 0 6 7 6 3 1 7 7 2 0 4 8 1 7 0 5 2 7 8 1 5 0 4 7\n",
      " 3 6 2 3 4 1 8 8 5 0 4 7 5 2 8 2 3 2 0 3 0 2 2 5 4 1 0 0 0 0 9 3 4 3 1 2 8\n",
      " 1 3 3 3 1 4 3 4 6 0 9 3 1 8 6 0 0 1 1 9 1 2 8 0 1 2 1 6 9 6 0 3 2 3 1 6 1\n",
      " 6 1 5 4 8 0 0 4 2 8 7 7 4 4 1 7 9 8 1 4 3 2 1 3 3 6 8 2 0 5 5 2 4 0 5 9 5\n",
      " 1 3 7 9 1 3 1 9 5 8 3 7 7 6 8 0 1 6 1 4 3 2 9 4 9 0 1 3 4 4 2 0 3 0 5 3 1\n",
      " 6 0 6 2 9 6 8 7 7 1 3 3 2 7 6 9 3 5 1 3 5 4 8 9 0 8 4 3 8 5 4 1 3 0 4 9 0\n",
      " 1 2 9 5 9 0 3 4 7 6 3 5 9 9 3 8 1 9 0 6 5 6 9 4 3 2 2 3 7 6 6 0 8 9 0 4 1\n",
      " 9 7 5 9 7 4 4 7 3 3 6 1 9 8 9 3 6 2 0 9 9 9 0 6 9 7 3 4 8 0 1 4 4 7 4 6 9\n",
      " 2 0 5 3 4 4 3 8 9 2 3 0 9 2 1 7 0 1 6 7 1 3 3 3 8 8 3 0 4 4 4 3 3 0 7 3 6\n",
      " 7 1 1 1 9 5 4 3 6 0 4 4 2 8 2 2 4 7 2 0 7 1 4 8 2 1 9 1 3 2 7 5 1 3 3 3 9\n",
      " 9 0 3 8 4 9 8 8 6 6 7 6 4 6 3 2 0 2 8 0 1 2 5 3 5 1 9 3 3 5 7 3 3 0 7 8 3\n",
      " 0 8 6 4 8 7 7 9 5 3 4 4 0 3 8 5 0 4 9 1 8 2 1 4 5 5 2 5 9 8 9 2 9 5 5 8 2\n",
      " 4 7 7 3 9 2 9 3 0 5 2 9 7 6 5 0 5 3 3 0 4 4 0 7 5 6 8 9 7 3 9 0 0 7 4 1 8\n",
      " 9] [4 1 2 2 5 1 2 1 4 4 1 8 0 0 0 4 8 3 3 8 2 4 1 5 4 0 8 8 7 8 3 7 5 9 0 4 5\n",
      " 8 3 2 7 8 2 1 6 7 1 8 7 8 1 4 0 7 7 7 5 1 6 8 8 2 0 9 8 8 7 6 3 4 6 0 3 8\n",
      " 2 2 7 5 0 6 2 7 5 2 1 7 0 7 2 4 5 6 2 0 4 2 3 7 0 2 3 2 3 0 7 1 3 2 6 6 3\n",
      " 0 4 9 6 6 8 2 7 9 8 1 1 9 6 9 7 4 3 1 2 3 9 4 4 9 4 7 9 6 5 6 7 2 5 7 9 5\n",
      " 6 7 1 6 8 3 3 9 9 3 1 6 7 0 9 1 3 8 7 5 1 7 5 7 4 4 0 3 2 1 2 4 4 3 0 2 4\n",
      " 6 7 2 9 5 2 3 2 5 7 0 9 2 9 6 2 2 6 3 6 2 9 9 8 4 2 4 8 6 7 3 3 9 2 3 3 6\n",
      " 7 6 7 8 3 7 2 0 2 8 9 5 4 5 1 6 9 7 3 3 9 9 0 5 1 6 2 8 5 7 2 4 7 4 9 0 3\n",
      " 3 7 2 2 6 3 2 6 1 3 6 8 2 7 0 4 7 8 7 1 7 4 4 5 5 0 8 4 6 4 4 6 7 3 9 7 9\n",
      " 0 6 5 1 6 5 3 3 3 3 6 7 0 3 9 1 9 2 3 0 0 6 0 8 0 7 1 5 6 9 9 1 1 3 5 6 3\n",
      " 0 5 0 6 0 1 2 7 7 4 2 5 3 9 4 3 6 1 1 3 3 0 4 0 3 1 5 4 7 5 8 3 9 0 1 9 1\n",
      " 0 3 4 1 3 0 6 4 9 7 9 5 3 9 3 1 6 9 3 3 1 7 2 0 7 6 2 4 5 5 5 9 1 8 5 2 1\n",
      " 4 3 9 9 6 4 1 3 0 1 0 9 9 5 6 2 1 4 2 1 7 0 6 1 7 1 8 7 9 4 5 0 2 4 6 3 6\n",
      " 4 0 8 2 2 5 7 1 3 6 9 1 1 3 2 5 0 3 8 7 7 0 0 0 4 6 1 7 7 9 6 0 8 0 7 2 7\n",
      " 1 7 1 5 8 8 1 8 8 5 7 1 7 9 7 3 9 8 4 8 3 1 9 6 4 2 4 3 7 5 3 2 9 1 8 9 8\n",
      " 5 3 4 8 8 6 0 1 0 1 5 1 3 0 5 7 6 3 1 7 7 2 0 4 8 1 7 0 5 2 7 8 1 5 0 4 7\n",
      " 3 6 2 3 4 1 8 8 5 0 4 7 5 2 8 2 3 2 0 3 0 2 2 5 4 1 0 0 0 0 9 3 4 3 1 2 8\n",
      " 1 3 3 3 1 4 3 4 6 0 9 3 1 8 6 0 0 1 1 9 1 2 6 0 1 2 1 6 9 6 0 3 2 3 1 6 1\n",
      " 6 1 5 4 8 6 0 4 2 8 7 7 4 4 1 7 9 8 1 4 3 2 1 3 3 6 8 2 0 5 5 4 4 0 5 9 5\n",
      " 1 3 7 9 1 3 1 9 8 8 3 9 7 6 5 0 1 6 1 4 7 2 9 4 9 0 1 3 9 4 2 0 3 0 5 3 1\n",
      " 6 0 6 2 9 6 8 7 7 1 3 3 2 7 6 9 3 5 2 3 5 4 8 9 0 8 4 4 8 5 4 1 3 0 4 9 0\n",
      " 1 2 9 5 9 0 5 4 7 6 3 5 9 9 3 8 1 9 0 6 5 6 7 4 3 0 2 3 7 6 6 0 8 9 2 4 1\n",
      " 9 7 5 9 7 4 4 7 3 3 6 1 9 8 9 3 6 2 0 9 9 9 0 6 9 7 3 2 8 0 1 4 4 7 4 6 9\n",
      " 2 8 5 3 4 5 3 8 4 3 3 0 7 2 1 7 0 1 6 2 1 3 3 3 8 8 3 0 4 4 4 3 3 0 7 3 6\n",
      " 7 1 1 1 9 5 4 3 6 0 4 4 2 8 2 2 4 7 2 0 7 1 4 8 2 1 9 1 3 2 3 5 1 3 3 8 9\n",
      " 9 0 3 8 4 8 8 8 6 6 7 6 4 6 3 5 0 2 8 0 1 2 5 3 3 1 9 3 8 3 7 3 3 0 3 8 8\n",
      " 2 8 6 9 8 7 7 9 5 3 4 4 0 3 8 5 0 4 9 1 8 2 1 4 5 5 2 3 4 8 9 2 9 7 5 8 2\n",
      " 4 7 7 3 9 2 9 3 0 5 2 9 2 6 5 0 5 3 3 0 4 4 6 7 5 6 8 9 7 3 9 0 0 7 4 1 8\n",
      " 9]\n"
     ]
    },
    {
     "data": {
      "text/plain": [
       "0.912"
      ]
     },
     "execution_count": 18,
     "metadata": {},
     "output_type": "execute_result"
    }
   ],
   "execution_count": 18
  }
 ],
 "metadata": {
  "kernelspec": {
   "display_name": "Python 3",
   "language": "python",
   "name": "python3"
  },
  "language_info": {
   "codemirror_mode": {
    "name": "ipython",
    "version": 2
   },
   "file_extension": ".py",
   "mimetype": "text/x-python",
   "name": "python",
   "nbconvert_exporter": "python",
   "pygments_lexer": "ipython2",
   "version": "2.7.6"
  }
 },
 "nbformat": 4,
 "nbformat_minor": 5
}
